{
 "cells": [
  {
   "cell_type": "code",
   "execution_count": null,
   "metadata": {
    "scrolled": false
   },
   "outputs": [],
   "source": [
    "import requests\n",
    "import time\n",
    "import csv\n",
    "\n",
    "top_list = []\n",
    "for start in range(0,250,20):\n",
    "    url = f'https://api.douban.com/v2/movie/top250?start={start}&apikey=0df993c66c0c636e29ecbb5344252a4a'\n",
    "    req = requests.get(url)\n",
    "    data = req.json()\n",
    "    title = data['subjects']\n",
    "    for i in title:\n",
    "        movie = i['title']\n",
    "        name_list = []\n",
    "        for avatars in i['casts']:\n",
    "            name = avatars['name']\n",
    "            name_list.append(name)\n",
    "        pingfen = i['rating']['details']\n",
    "        sum = 0\n",
    "        for i in pingfen.values():\n",
    "            sum += i\n",
    "        demo = (sum, movie) + tuple(name_list)\n",
    "        top_list.append(demo)\n",
    "    time.sleep(5)\n",
    "    \n",
    "\n",
    "mvtitle = ['平分数', '电影名', '演员']\n",
    "with open('result.csv', 'w') as f:\n",
    "    f_csv = csv.writer(f)\n",
    "    f_csv.writerow(mvtitle)\n",
    "    f_csv.writerows(top_list)"
   ]
  },
  {
   "cell_type": "code",
   "execution_count": null,
   "metadata": {},
   "outputs": [],
   "source": [
    "# 下载top20的电影海报\n",
    "url = 'https://api.douban.com/v2/movie/top250?apikey=0df993c66c0c636e29ecbb5344252a4a'\n",
    "req = requests.get(url)\n",
    "data = req.json()\n",
    "for casts in data['subjects']:\n",
    "    small = casts['images']\n",
    "    img_url = small['small']\n",
    "    img_name = casts['title']\n",
    "    rb = requests.get(img_url)\n",
    "    with open('img/'+ img_name+ '.jpg', 'wb') as f:\n",
    "        f.write(rb.content)"
   ]
  },
  {
   "cell_type": "code",
   "execution_count": null,
   "metadata": {},
   "outputs": [],
   "source": []
  }
 ],
 "metadata": {
  "kernelspec": {
   "display_name": "Python 3",
   "language": "python",
   "name": "python3"
  },
  "language_info": {
   "codemirror_mode": {
    "name": "ipython",
    "version": 3
   },
   "file_extension": ".py",
   "mimetype": "text/x-python",
   "name": "python",
   "nbconvert_exporter": "python",
   "pygments_lexer": "ipython3",
   "version": "3.7.3"
  }
 },
 "nbformat": 4,
 "nbformat_minor": 2
}
