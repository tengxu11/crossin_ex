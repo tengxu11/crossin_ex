{
 "cells": [
  {
   "cell_type": "code",
   "execution_count": null,
   "metadata": {
    "scrolled": true
   },
   "outputs": [
    {
     "name": "stdout",
     "output_type": "stream",
     "text": [
      "请输入要查询的城市：上海\n",
      "{'yesterday': {'date': '24日星期六', 'high': '高温 31℃', 'fx': '北风', 'low': '低温 26℃', 'fl': '<![CDATA[<3级]]>', 'type': '小雨'}, 'city': '上海', 'forecast': [{'date': '25日星期天', 'high': '高温 32℃', 'fengli': '<![CDATA[3-4级]]>', 'low': '低温 27℃', 'fengxiang': '东南风', 'type': '小雨'}, {'date': '26日星期一', 'high': '高温 34℃', 'fengli': '<![CDATA[<3级]]>', 'low': '低温 29℃', 'fengxiang': '南风', 'type': '多云'}, {'date': '27日星期二', 'high': '高温 36℃', 'fengli': '<![CDATA[<3级]]>', 'low': '低温 28℃', 'fengxiang': '西南风', 'type': '阴'}, {'date': '28日星期三', 'high': '高温 28℃', 'fengli': '<![CDATA[<3级]]>', 'low': '低温 24℃', 'fengxiang': '东南风', 'type': '小雨'}, {'date': '29日星期四', 'high': '高温 28℃', 'fengli': '<![CDATA[<3级]]>', 'low': '低温 24℃', 'fengxiang': '西南风', 'type': '中雨'}], 'ganmao': '各项气象条件适宜，发生感冒机率较低。但请避免长期处于空调房间中，以防感冒。', 'wendu': '33'}\n",
      "25日星期天\n",
      "高温 32℃\n",
      "低温 27℃\n",
      "4级\n",
      "小雨\n"
     ]
    }
   ],
   "source": [
    "import requests\n",
    "import re\n",
    "\n",
    "def feng(data):\n",
    "    fengli = re.findall('\\d+\\w',data)\n",
    "    return fengli\n",
    "\n",
    "while True:\n",
    "    city = input('请输入要查询的城市：')\n",
    "    if not city:\n",
    "        break\n",
    "    try:\n",
    "        req = requests.get(f'http://wthrcdn.etouch.cn/weather_mini?city={city}')\n",
    "    except:\n",
    "        print('查询失败')\n",
    "        break\n",
    "    status = req.json().get('status')\n",
    "    city_data = req.json()\n",
    "    if status != 1000:\n",
    "        print(f'抱歉没有查询到{city}')\n",
    "    else:\n",
    "        city_data = city_data.get('data')\n",
    "\n",
    "        if city_data:\n",
    "            city_forecast = city_data['forecast'][0]\n",
    "            print(city_forecast.get('date'))\n",
    "            print(city_forecast.get('high'))\n",
    "            print(city_forecast.get('low'))\n",
    "            print(feng(city_forecast.get('fengli'))[0])\n",
    "            print(city_forecast.get('type'))\n",
    "        else:\n",
    "            print('没有获取到')   "
   ]
  },
  {
   "cell_type": "code",
   "execution_count": null,
   "metadata": {},
   "outputs": [],
   "source": []
  },
  {
   "cell_type": "code",
   "execution_count": null,
   "metadata": {},
   "outputs": [],
   "source": []
  }
 ],
 "metadata": {
  "kernelspec": {
   "display_name": "Python 3",
   "language": "python",
   "name": "python3"
  },
  "language_info": {
   "codemirror_mode": {
    "name": "ipython",
    "version": 3
   },
   "file_extension": ".py",
   "mimetype": "text/x-python",
   "name": "python",
   "nbconvert_exporter": "python",
   "pygments_lexer": "ipython3",
   "version": "3.7.3"
  }
 },
 "nbformat": 4,
 "nbformat_minor": 2
}
