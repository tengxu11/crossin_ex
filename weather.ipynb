{
 "cells": [
  {
   "cell_type": "code",
   "execution_count": 68,
   "metadata": {},
   "outputs": [
    {
     "name": "stdout",
     "output_type": "stream",
     "text": [
      "请输入要查询的城市：徐州\n",
      "24日星期六\n",
      "高温 31℃\n",
      "低温 26℃\n",
      "3级\n",
      "小雨\n",
      "请输入要查询的城市：\n"
     ]
    }
   ],
   "source": [
    "import requests\n",
    "import re\n",
    "\n",
    "def feng(data):\n",
    "    fengli = re.findall('\\d+\\w',data)\n",
    "    return fengli\n",
    "\n",
    "while True:\n",
    "    city = input('请输入要查询的城市：')\n",
    "    if not city:\n",
    "        break\n",
    "    try:\n",
    "        req = requests.get(f'http://wthrcdn.etouch.cn/weather_mini?city={city}')\n",
    "    except:\n",
    "        print('查询失败')\n",
    "        break\n",
    "    status = req.json().get('status')\n",
    "    if status != 1000:\n",
    "        print(f'抱歉没有查询到{city}')\n",
    "    else:\n",
    "        city_data = city_date.get('data')\n",
    "\n",
    "        if city_data:\n",
    "            city_forecast = city_data['forecast'][0]\n",
    "            print(city_forecast.get('date'))\n",
    "            print(city_forecast.get('high'))\n",
    "            print(city_forecast.get('low'))\n",
    "            print(feng(city_forecast.get('fengli'))[0])\n",
    "            print(city_forecast.get('type'))\n",
    "        else:\n",
    "            print('没有获取到')"
   ]
  }
 ],
 "metadata": {
  "kernelspec": {
   "display_name": "Python 3",
   "language": "python",
   "name": "python3"
  },
  "language_info": {
   "codemirror_mode": {
    "name": "ipython",
    "version": 3
   },
   "file_extension": ".py",
   "mimetype": "text/x-python",
   "name": "python",
   "nbconvert_exporter": "python",
   "pygments_lexer": "ipython3",
   "version": "3.7.3"
  }
 },
 "nbformat": 4,
 "nbformat_minor": 2
}
